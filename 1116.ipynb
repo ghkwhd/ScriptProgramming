{
 "cells": [
  {
   "cell_type": "markdown",
   "metadata": {},
   "source": [
    "## 8.3"
   ]
  },
  {
   "cell_type": "code",
   "execution_count": null,
   "metadata": {},
   "outputs": [],
   "source": [
    "import os"
   ]
  },
  {
   "cell_type": "code",
   "execution_count": 3,
   "metadata": {},
   "outputs": [
    {
     "name": "stdout",
     "output_type": "stream",
     "text": [
      "C:\\Users\\user\\Desktop\\1116\n"
     ]
    }
   ],
   "source": [
    "print(os.getcwd()) #current working directory"
   ]
  },
  {
   "cell_type": "code",
   "execution_count": 5,
   "metadata": {},
   "outputs": [
    {
     "name": "stdout",
     "output_type": "stream",
     "text": [
      "['.ipynb_checkpoints', '1116.ipynb'] 2\n"
     ]
    }
   ],
   "source": [
    "print(os.listdir(), len(os.listdir())) #현재 디렉터리에 몇 개의 파일이 있는지"
   ]
  },
  {
   "cell_type": "code",
   "execution_count": 6,
   "metadata": {},
   "outputs": [],
   "source": [
    "os.mkdir(\"my_dir\")"
   ]
  },
  {
   "cell_type": "code",
   "execution_count": 10,
   "metadata": {},
   "outputs": [
    {
     "name": "stdout",
     "output_type": "stream",
     "text": [
      "False\n",
      "True\n"
     ]
    }
   ],
   "source": [
    "print(os.path.isfile(\"my_dir\"))\n",
    "print(os.path.isdir(\"my_dir\")) # 존재 유무, 파일인지(디렉터리인지) 알 수 있음"
   ]
  },
  {
   "cell_type": "code",
   "execution_count": 14,
   "metadata": {},
   "outputs": [
    {
     "name": "stdout",
     "output_type": "stream",
     "text": [
      "my_dir\\sub_dir_1\\sub_dir_2\n"
     ]
    }
   ],
   "source": [
    "print(os.path.join(\"my_dir\", \"sub_dir_1\", \"sub_dir_2\")) \n",
    "#os 마다 경로를 나타내는게 \\ / 로 다르기 때문에 사용\n",
    "# 파일의 구분자를 알아내서 선택해서 가져온다"
   ]
  },
  {
   "cell_type": "markdown",
   "metadata": {},
   "source": [
    "## 8.4"
   ]
  },
  {
   "cell_type": "code",
   "execution_count": 17,
   "metadata": {},
   "outputs": [
    {
     "name": "stdout",
     "output_type": "stream",
     "text": [
      "<class '_io.TextIOWrapper'>\n"
     ]
    }
   ],
   "source": [
    "f = open('1116.txt', 'r')  #디폴트는 r\n",
    "print(type(f))\n",
    "f.close()"
   ]
  },
  {
   "cell_type": "code",
   "execution_count": 1,
   "metadata": {},
   "outputs": [
    {
     "name": "stdout",
     "output_type": "stream",
     "text": [
      "<class '_io.BufferedReader'>\n"
     ]
    }
   ],
   "source": [
    "f = open('1116.txt', 'rb')\n",
    "print(type(f))\n",
    "f.close()"
   ]
  },
  {
   "cell_type": "code",
   "execution_count": 3,
   "metadata": {},
   "outputs": [
    {
     "name": "stdout",
     "output_type": "stream",
     "text": [
      "Enter file name: \n"
     ]
    }
   ],
   "source": [
    "while True:\n",
    "    try:\n",
    "        fname = input('Enter file name: ')\n",
    "        if not fname: \t\t\t\t# 빈 문자열이 입력되면 종료한다.\n",
    "            break\n",
    "        f = open(fname) \t\t\t\t# 파일 열기를 시도한다.\n",
    "        print(f.read())\n",
    "        f.close()\n",
    "    except FileNotFoundError:\n",
    "        print('File could not be found. Re-enter.')\n",
    "        break"
   ]
  },
  {
   "cell_type": "code",
   "execution_count": null,
   "metadata": {},
   "outputs": [],
   "source": [
    "while True:\n",
    "    fname = input('Enter file name: ')\n",
    "    if not fname:\n",
    "        break\n",
    "    try:\n",
    "        f = open(fname) \t\t\t\t# 파일 열기를 시도한다.\n",
    "    except FileNotFoundError:\n",
    "        print('File could not be found. Re-enter.')\n",
    "        break\n",
    "    else:\n",
    "        print(f.read())\n",
    "        f.close()"
   ]
  },
  {
   "cell_type": "markdown",
   "metadata": {},
   "source": [
    "## 8.5"
   ]
  },
  {
   "cell_type": "code",
   "execution_count": 4,
   "metadata": {},
   "outputs": [],
   "source": [
    "with open('1116.txt', 'r') as f:  # (:)있음\n",
    "    lst = f.readlines()\n",
    "    for thing in lst:\n",
    "        print(thing, end='')\n",
    "        \n",
    "#저 안에서만 f를 읽을 수 있다. with가 끝나면 자동으로 닫힌다.(존재는 함)"
   ]
  },
  {
   "cell_type": "markdown",
   "metadata": {},
   "source": [
    "## 8.7"
   ]
  },
  {
   "cell_type": "code",
   "execution_count": 9,
   "metadata": {},
   "outputs": [
    {
     "name": "stdout",
     "output_type": "stream",
     "text": [
      "To be or not to be\n",
      "That is the question.\n",
      "Whether tis nobler in the mind\n",
      "To suffer the slings and arrows\n",
      "\n",
      "\n"
     ]
    }
   ],
   "source": [
    "with open('file.txt', 'w') as f:\n",
    "    f.write('To be or not to be\\n')  # write에는 개행문자가 필요\n",
    "    f.write('That is the question.\\n')\n",
    "    f.write('Whether tis nobler in the mind\\n')\n",
    "    f.write('To suffer the slings and arrows\\n')\n",
    "\n",
    "with open('file.txt', 'r') as f:\n",
    "    print(f.read()) # 파일 전체의 내용을 읽을 수 있다\n",
    "    print()"
   ]
  },
  {
   "cell_type": "code",
   "execution_count": 14,
   "metadata": {},
   "outputs": [
    {
     "name": "stdout",
     "output_type": "stream",
     "text": [
      "To be or not to be\n",
      "\n",
      "That is the question.\n",
      "\n",
      "Whether tis nobler in the mind\n",
      "\n",
      "To suffer the slings and arrows\n",
      "\n",
      "\n"
     ]
    }
   ],
   "source": [
    "with open('file.txt', 'r') as f:\n",
    "    s = ' ' \t\t\t# 빈 칸으로 초기화한다.\n",
    "    while s:\n",
    "        s = f.readline() # 숨어있는 개행이 있음\n",
    "        print(s)         # 개행시켜줌\n",
    "        # 총 두 번의 개행이 일어남"
   ]
  },
  {
   "cell_type": "code",
   "execution_count": 16,
   "metadata": {},
   "outputs": [
    {
     "name": "stdout",
     "output_type": "stream",
     "text": [
      "T\n",
      "o\n",
      " \n",
      "b\n",
      "e\n",
      " \n",
      "o\n",
      "r\n",
      " \n",
      "n\n",
      "o\n",
      "t\n",
      " \n",
      "t\n",
      "o\n",
      " \n",
      "b\n",
      "e\n",
      "\n",
      "\n"
     ]
    }
   ],
   "source": [
    "with open('file.txt','r') as f:\n",
    "    for line in f.readline():  # 문자를 가져온다?\n",
    "        print(line)"
   ]
  },
  {
   "cell_type": "code",
   "execution_count": 17,
   "metadata": {},
   "outputs": [
    {
     "name": "stdout",
     "output_type": "stream",
     "text": [
      "To be or not to be\n",
      "\n",
      "That is the question.\n",
      "\n",
      "Whether tis nobler in the mind\n",
      "\n",
      "To suffer the slings and arrows\n",
      "\n"
     ]
    }
   ],
   "source": [
    "with open('file.txt','r') as f:\n",
    "    for line in f.readlines():  # 라인을 가져온다\n",
    "        print(line)"
   ]
  },
  {
   "cell_type": "code",
   "execution_count": 20,
   "metadata": {},
   "outputs": [
    {
     "name": "stdout",
     "output_type": "stream",
     "text": [
      "To be or not to be\n",
      "\n",
      "That is the question.\n",
      "\n",
      "Whether tis nobler in the mind\n",
      "\n",
      "To suffer the slings and arrows\n",
      "\n"
     ]
    }
   ],
   "source": [
    "with open('file.txt','r') as f:\n",
    "    for line in f:  # f가 이터레이터 역할 수행 가능\n",
    "        print(line)"
   ]
  },
  {
   "cell_type": "markdown",
   "metadata": {},
   "source": [
    "## 8.8"
   ]
  },
  {
   "cell_type": "code",
   "execution_count": 24,
   "metadata": {},
   "outputs": [
    {
     "name": "stdout",
     "output_type": "stream",
     "text": [
      "True\n",
      "To be\n",
      "5\n",
      "********************************************************************************\n",
      "0\n",
      "To be\n"
     ]
    }
   ],
   "source": [
    "with open('file.txt', 'r') as f:\n",
    "    print(f.seekable()) # 랜덤접근(임의접근)이 가능한지\n",
    "    print(f.read(5))    # 5개의 글자만 가져온다\n",
    "    print(f.tell())     # 파일 포인터가 어느 위치에 있는지 알려준다\n",
    "    print(\"*\" * 80)\n",
    "    \n",
    "    f.seek(0, 0)        # 랜덤하게 파일 접근 (포인터 위치, 포인터 기준 위치)\n",
    "                        # 포인터위치 인수만 써도 된다\n",
    "    \n",
    "    print(f.tell()) \n",
    "    print(f.read(5)) "
   ]
  },
  {
   "cell_type": "markdown",
   "metadata": {},
   "source": [
    "## 8.9 생략"
   ]
  },
  {
   "cell_type": "markdown",
   "metadata": {},
   "source": [
    "## 8.10"
   ]
  },
  {
   "cell_type": "code",
   "execution_count": 26,
   "metadata": {},
   "outputs": [
    {
     "name": "stdout",
     "output_type": "stream",
     "text": [
      "<class 'bytes'>\n",
      "<class 'bytes'>\n"
     ]
    }
   ],
   "source": [
    "with open('my.dat', 'wb') as f:\n",
    "    b = b'\\x01\\x02\\x03\\x0f\\x10\\x1f'  # \\xOO은 16진수를 의미, 하나 당 4비트, 총 8비트\n",
    "                                     # 01은 00000001, 03은 00000011\n",
    "    print(type(b))\n",
    "    \n",
    "    f.write(b)\n",
    "    \n",
    "    b = b'hello'\n",
    "    print(type(b))\n",
    "\n",
    "    f.write(b)"
   ]
  },
  {
   "cell_type": "code",
   "execution_count": 27,
   "metadata": {},
   "outputs": [
    {
     "name": "stdout",
     "output_type": "stream",
     "text": [
      "<class 'bytes'> 11\n",
      "1 2 3 15 16 31 104 101 108 108 111 "
     ]
    }
   ],
   "source": [
    "with open('my.dat', 'rb') as f:\n",
    "    bss = f.read()\n",
    "    print(type(bss), len(bss))\n",
    "    for i in bss:\n",
    "        print(i, end=' ')"
   ]
  },
  {
   "cell_type": "markdown",
   "metadata": {},
   "source": [
    "## 8.12"
   ]
  },
  {
   "cell_type": "code",
   "execution_count": 28,
   "metadata": {},
   "outputs": [],
   "source": [
    "import pickle\n",
    "\n",
    "with open('goo.dat', 'wb') as f:\n",
    "    pickle.dump([1, 2, 3], f)\n",
    "    pickle.dump('Hello!', f)\n",
    "    pickle.dump(3.141592, f)"
   ]
  },
  {
   "cell_type": "code",
   "execution_count": 30,
   "metadata": {},
   "outputs": [
    {
     "name": "stdout",
     "output_type": "stream",
     "text": [
      "<class 'list'> [1, 2, 3]\n",
      "<class 'str'> Hello!\n",
      "<class 'float'> 3.141592\n"
     ]
    }
   ],
   "source": [
    "with open('goo.dat', 'rb') as f:\n",
    "    a = pickle.load(f)\n",
    "    b = pickle.load(f)\n",
    "    c = pickle.load(f)\n",
    "    \n",
    "    # 들어가있는 순서대로 load가 진행된다\n",
    "    \n",
    "    print(type(a), a)\n",
    "    print(type(b), b)\n",
    "    print(type(c), c)"
   ]
  },
  {
   "cell_type": "markdown",
   "metadata": {},
   "source": [
    "# 9장"
   ]
  },
  {
   "cell_type": "code",
   "execution_count": null,
   "metadata": {},
   "outputs": [],
   "source": []
  },
  {
   "cell_type": "code",
   "execution_count": null,
   "metadata": {},
   "outputs": [],
   "source": []
  },
  {
   "cell_type": "code",
   "execution_count": null,
   "metadata": {},
   "outputs": [],
   "source": []
  },
  {
   "cell_type": "code",
   "execution_count": null,
   "metadata": {},
   "outputs": [],
   "source": []
  },
  {
   "cell_type": "code",
   "execution_count": null,
   "metadata": {},
   "outputs": [],
   "source": []
  },
  {
   "cell_type": "code",
   "execution_count": null,
   "metadata": {},
   "outputs": [],
   "source": []
  },
  {
   "cell_type": "code",
   "execution_count": null,
   "metadata": {},
   "outputs": [],
   "source": []
  },
  {
   "cell_type": "code",
   "execution_count": null,
   "metadata": {},
   "outputs": [],
   "source": []
  },
  {
   "cell_type": "code",
   "execution_count": null,
   "metadata": {},
   "outputs": [],
   "source": []
  },
  {
   "cell_type": "code",
   "execution_count": null,
   "metadata": {},
   "outputs": [],
   "source": []
  },
  {
   "cell_type": "code",
   "execution_count": null,
   "metadata": {},
   "outputs": [],
   "source": []
  },
  {
   "cell_type": "code",
   "execution_count": null,
   "metadata": {},
   "outputs": [],
   "source": []
  },
  {
   "cell_type": "code",
   "execution_count": null,
   "metadata": {},
   "outputs": [],
   "source": []
  },
  {
   "cell_type": "code",
   "execution_count": null,
   "metadata": {},
   "outputs": [],
   "source": []
  },
  {
   "cell_type": "code",
   "execution_count": null,
   "metadata": {},
   "outputs": [],
   "source": []
  },
  {
   "cell_type": "code",
   "execution_count": null,
   "metadata": {},
   "outputs": [],
   "source": []
  },
  {
   "cell_type": "code",
   "execution_count": null,
   "metadata": {},
   "outputs": [],
   "source": []
  }
 ],
 "metadata": {
  "kernelspec": {
   "display_name": "Python 3",
   "language": "python",
   "name": "python3"
  },
  "language_info": {
   "codemirror_mode": {
    "name": "ipython",
    "version": 3
   },
   "file_extension": ".py",
   "mimetype": "text/x-python",
   "name": "python",
   "nbconvert_exporter": "python",
   "pygments_lexer": "ipython3",
   "version": "3.7.1"
  }
 },
 "nbformat": 4,
 "nbformat_minor": 2
}
