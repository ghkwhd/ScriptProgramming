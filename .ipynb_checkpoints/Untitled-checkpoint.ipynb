{
 "cells": [
  {
   "cell_type": "code",
   "execution_count": 1,
   "id": "8c774f60",
   "metadata": {},
   "outputs": [],
   "source": [
    "a=1"
   ]
  },
  {
   "cell_type": "code",
   "execution_count": 8,
   "id": "895911e4",
   "metadata": {
    "scrolled": true
   },
   "outputs": [
    {
     "name": "stdout",
     "output_type": "stream",
     "text": [
      "3\n",
      "abcdef\n",
      "[1, 2, 3, 4, 5, 6]\n"
     ]
    }
   ],
   "source": [
    "def add(a,b): #동적인 데이터 타입 결정 지원\n",
    "    return a+b\n",
    "\n",
    "print(add(1,2))\n",
    "print(add('abc', 'def'))\n",
    "print(add([1, 2, 3], [4, 5, 6]))"
   ]
  },
  {
   "cell_type": "code",
   "execution_count": 9,
   "id": "e4d8126c",
   "metadata": {},
   "outputs": [],
   "source": [
    "a=1"
   ]
  },
  {
   "cell_type": "code",
   "execution_count": 10,
   "id": "fe9d94ca",
   "metadata": {},
   "outputs": [
    {
     "data": {
      "text/plain": [
       "int"
      ]
     },
     "execution_count": 10,
     "metadata": {},
     "output_type": "execute_result"
    }
   ],
   "source": [
    "type(a)"
   ]
  },
  {
   "cell_type": "code",
   "execution_count": 11,
   "id": "f087df63",
   "metadata": {},
   "outputs": [
    {
     "name": "stdout",
     "output_type": "stream",
     "text": [
      "[12, 'abcde', [3, 4, 5], 'add']\n"
     ]
    }
   ],
   "source": [
    "a=[12, 'abcde', [3,4,5]]\n",
    "a.append('add')\n",
    "print(a)"
   ]
  },
  {
   "cell_type": "code",
   "execution_count": 12,
   "id": "fe086f2e",
   "metadata": {},
   "outputs": [
    {
     "data": {
      "text/plain": [
       "7"
      ]
     },
     "execution_count": 12,
     "metadata": {},
     "output_type": "execute_result"
    }
   ],
   "source": [
    "n = 5\n",
    "n = n + 1\n",
    "n = n + 1\n",
    "n"
   ]
  },
  {
   "cell_type": "code",
   "execution_count": 13,
   "id": "a7b071a2",
   "metadata": {},
   "outputs": [
    {
     "name": "stdout",
     "output_type": "stream",
     "text": [
      "13.0\n"
     ]
    }
   ],
   "source": [
    "side1 = 5                       # 한쪽 변 초기화.\n",
    "side2 = 12                      # 다른쪽 변 초기화.\n",
    "hyp = (side1 * side1 + side2 * side2) ** 0.5\n",
    "print(hyp)                      # 빗변 계산 결과 출력."
   ]
  },
  {
   "cell_type": "code",
   "execution_count": 15,
   "id": "65643fd6",
   "metadata": {},
   "outputs": [
    {
     "data": {
      "text/plain": [
       "13.0"
      ]
     },
     "execution_count": 15,
     "metadata": {},
     "output_type": "execute_result"
    }
   ],
   "source": [
    "side1 = 5                       # 한쪽 변 초기화.\n",
    "side2 = 12                      # 다른쪽 변 초기화.\n",
    "hyp = (side1 * side1 + side2 * side2) ** 0.5\n",
    "hyp                     # jupyter notebook에서는 print 없이도 출력 가능"
   ]
  },
  {
   "cell_type": "code",
   "execution_count": 16,
   "id": "ec85deae",
   "metadata": {},
   "outputs": [
    {
     "name": "stdout",
     "output_type": "stream",
     "text": [
      "['False', 'None', 'True', 'and', 'as', 'assert', 'async', 'await', 'break', 'class', 'continue', 'def', 'del', 'elif', 'else', 'except', 'finally', 'for', 'from', 'global', 'if', 'import', 'in', 'is', 'lambda', 'nonlocal', 'not', 'or', 'pass', 'raise', 'return', 'try', 'while', 'with', 'yield']\n"
     ]
    }
   ],
   "source": [
    "import keyword\n",
    "\n",
    "print(keyword.kwlist)"
   ]
  },
  {
   "cell_type": "code",
   "execution_count": 18,
   "id": "e6964278",
   "metadata": {},
   "outputs": [
    {
     "name": "stdout",
     "output_type": "stream",
     "text": [
      "<class 'float'> 5.0\n"
     ]
    }
   ],
   "source": [
    "x = 5.0\n",
    "print(type(x), x)"
   ]
  },
  {
   "cell_type": "code",
   "execution_count": 21,
   "id": "5f69a2fb",
   "metadata": {},
   "outputs": [
    {
     "name": "stdout",
     "output_type": "stream",
     "text": [
      "<class 'int'> 2\n"
     ]
    }
   ],
   "source": [
    "x = 5 // 2     # 결과는 2.0\n",
    "print(type(x), x)"
   ]
  },
  {
   "cell_type": "code",
   "execution_count": 22,
   "id": "69607b3c",
   "metadata": {},
   "outputs": [
    {
     "data": {
      "text/plain": [
       "(4, 3)"
      ]
     },
     "execution_count": 22,
     "metadata": {},
     "output_type": "execute_result"
    }
   ],
   "source": [
    "divmod(23, 5)"
   ]
  },
  {
   "cell_type": "code",
   "execution_count": 23,
   "id": "15a6c6f1",
   "metadata": {},
   "outputs": [
    {
     "data": {
      "text/plain": [
       "3.0"
      ]
     },
     "execution_count": 23,
     "metadata": {},
     "output_type": "execute_result"
    }
   ],
   "source": [
    "8.0 // 2.5    # 결과는 3.0"
   ]
  },
  {
   "cell_type": "code",
   "execution_count": 24,
   "id": "9755f239",
   "metadata": {},
   "outputs": [
    {
     "name": "stdout",
     "output_type": "stream",
     "text": [
      "<class 'tuple'> (4, 3)\n"
     ]
    }
   ],
   "source": [
    "x = divmod(23, 5)\n",
    "print(type(x),x)"
   ]
  },
  {
   "cell_type": "code",
   "execution_count": 32,
   "id": "b717afe8",
   "metadata": {},
   "outputs": [
    {
     "name": "stdout",
     "output_type": "stream",
     "text": [
      "2 3\n"
     ]
    }
   ],
   "source": [
    "quot, rem = divmod(23, 10) #tuple -- 언박싱\n",
    "print(quot,rem)"
   ]
  },
  {
   "cell_type": "code",
   "execution_count": 33,
   "id": "0707e97b",
   "metadata": {},
   "outputs": [
    {
     "name": "stdout",
     "output_type": "stream",
     "text": [
      "<class 'float'> 4.0\n"
     ]
    }
   ],
   "source": [
    "a = float(4) #casting = 형변환\n",
    "print(type(a),a)"
   ]
  },
  {
   "cell_type": "code",
   "execution_count": 35,
   "id": "13a1d7ff",
   "metadata": {},
   "outputs": [
    {
     "name": "stdout",
     "output_type": "stream",
     "text": [
      "한 변의 길이를 입력하라: 3\n",
      "다른 한 변의 길이를 입력하라: 4\n",
      "빗변의 길이는 다음과 같다: 5.0\n"
     ]
    }
   ],
   "source": [
    "side1 = float(input('한 변의 길이를 입력하라: '))\n",
    "side2 = float(input('다른 한 변의 길이를 입력하라: '))\n",
    "hyp = ((side1 * side1) + (side2 * side2)) ** 0.5\n",
    "print('빗변의 길이는 다음과 같다:', hyp)"
   ]
  },
  {
   "cell_type": "code",
   "execution_count": 36,
   "id": "b95bdfc4",
   "metadata": {},
   "outputs": [
    {
     "name": "stdout",
     "output_type": "stream",
     "text": [
      "한 변의 길이를 입력하라: 1.0\n",
      "다른 한 변의 길이를 입력하라: 2.00\n",
      "3.0\n"
     ]
    }
   ],
   "source": [
    "side1 = float(input('한 변의 길이를 입력하라: '))\n",
    "side2 = float(input('다른 한 변의 길이를 입력하라: '))\n",
    "side3 = side1 + side2\n",
    "print(side3)"
   ]
  },
  {
   "cell_type": "code",
   "execution_count": 38,
   "id": "3b94aeef",
   "metadata": {},
   "outputs": [
    {
     "name": "stdout",
     "output_type": "stream",
     "text": [
      "한 변의 길이를 입력하라: 1.0\n",
      "다른 한 변의 길이를 입력하라: 2.0\n",
      "<class 'str'> <class 'str'> <class 'str'>\n"
     ]
    }
   ],
   "source": [
    "side1 = input('한 변의 길이를 입력하라: ')\n",
    "side2 = input('다른 한 변의 길이를 입력하라: ')\n",
    "side3 = side1 + side2\n",
    "print(type(side1),type(side2),type(side3))"
   ]
  },
  {
   "cell_type": "code",
   "execution_count": 39,
   "id": "248a2095",
   "metadata": {},
   "outputs": [
    {
     "data": {
      "text/plain": [
       "3"
      ]
     },
     "execution_count": 39,
     "metadata": {},
     "output_type": "execute_result"
    }
   ],
   "source": [
    "int(3.4) #int(\"3.4\")는 에러"
   ]
  },
  {
   "cell_type": "code",
   "execution_count": 43,
   "id": "d757be40",
   "metadata": {},
   "outputs": [
    {
     "name": "stdout",
     "output_type": "stream",
     "text": [
      "한 변의 길이를 입력하라: 1\n",
      "다른 한 변의 길이를 입력하라: 2\n",
      "빗변의 길이는 다음과 같다:  2.23606797749979\n"
     ]
    }
   ],
   "source": [
    "def main():\n",
    "    side1 = float(input('한 변의 길이를 입력하라: '))\n",
    "    side2 = float(input('다른 한 변의 길이를 입력하라: '))\n",
    "    hyp = (side1 * side1 + side2 * side2) ** 0.5\n",
    "    print('빗변의 길이는 다음과 같다: ', hyp)\n",
    "    \n",
    "main() #함수 호출"
   ]
  },
  {
   "cell_type": "code",
   "execution_count": null,
   "id": "33b4bf00",
   "metadata": {},
   "outputs": [],
   "source": [
    "def main():\n",
    "    age = int(input('나이를 입력하라: '))\n",
    "    name = input('이름을 입력하라: ')\n",
    "    if age < 30:\n",
    "        print('안녕하세요', name)\n",
    "        print('30세이하군요.')\n",
    "        print('정말 어리네요.')\n",
    "        \n",
    "main()"
   ]
  },
  {
   "cell_type": "code",
   "execution_count": 4,
   "id": "3ce3c266",
   "metadata": {},
   "outputs": [],
   "source": [
    "x = 1\n",
    "y = x"
   ]
  },
  {
   "cell_type": "code",
   "execution_count": 5,
   "id": "ae34f76c",
   "metadata": {},
   "outputs": [
    {
     "data": {
      "text/plain": [
       "True"
      ]
     },
     "execution_count": 5,
     "metadata": {},
     "output_type": "execute_result"
    }
   ],
   "source": [
    "x is y #객체의 동일성 테스트"
   ]
  },
  {
   "cell_type": "markdown",
   "id": "c4f86e56",
   "metadata": {},
   "source": [
    "- 함수 이름에 저장된 레퍼런스를 다른 변수에 할당하여 그 변수를 이용한 함수 호출 가능"
   ]
  },
  {
   "cell_type": "code",
   "execution_count": 2,
   "id": "62603a98",
   "metadata": {},
   "outputs": [],
   "source": [
    "def add(a,b): #함수 객체가 생성\n",
    "    return a+b\n",
    "y = add"
   ]
  },
  {
   "cell_type": "code",
   "execution_count": 3,
   "id": "d05e8be9",
   "metadata": {},
   "outputs": [
    {
     "data": {
      "text/plain": [
       "11"
      ]
     },
     "execution_count": 3,
     "metadata": {},
     "output_type": "execute_result"
    }
   ],
   "source": [
    "y(1,10)"
   ]
  },
  {
   "cell_type": "code",
   "execution_count": 1,
   "id": "e34ea32b",
   "metadata": {},
   "outputs": [
    {
     "data": {
      "text/plain": [
       "123"
      ]
     },
     "execution_count": 1,
     "metadata": {},
     "output_type": "execute_result"
    }
   ],
   "source": [
    "x = 123\n",
    "x"
   ]
  },
  {
   "cell_type": "code",
   "execution_count": 6,
   "id": "063bb521",
   "metadata": {},
   "outputs": [
    {
     "name": "stdout",
     "output_type": "stream",
     "text": [
      "None\n"
     ]
    }
   ],
   "source": [
    "def simple():\n",
    "    pass #pass가 없으면 에러\n",
    "\n",
    "print(simple())"
   ]
  },
  {
   "cell_type": "code",
   "execution_count": 7,
   "id": "2c0d7f99",
   "metadata": {},
   "outputs": [
    {
     "name": "stdout",
     "output_type": "stream",
     "text": [
      "None\n"
     ]
    }
   ],
   "source": [
    "def simple():\n",
    "    a = 10\n",
    "\n",
    "print(simple())"
   ]
  },
  {
   "cell_type": "code",
   "execution_count": 11,
   "id": "f9d9511c",
   "metadata": {},
   "outputs": [
    {
     "name": "stdout",
     "output_type": "stream",
     "text": [
      "None\n"
     ]
    }
   ],
   "source": [
    "def simple():\n",
    "    a = 10\n",
    "    return None #return None이 항상 존재\n",
    "\n",
    "print(simple())"
   ]
  },
  {
   "cell_type": "code",
   "execution_count": 15,
   "id": "af820a1e",
   "metadata": {},
   "outputs": [
    {
     "name": "stdout",
     "output_type": "stream",
     "text": [
      "10\n"
     ]
    }
   ],
   "source": [
    "def simple():\n",
    "    a = 10\n",
    "    return a\n",
    "print(simple())"
   ]
  },
  {
   "cell_type": "code",
   "execution_count": 16,
   "id": "d203d03e",
   "metadata": {},
   "outputs": [
    {
     "name": "stdout",
     "output_type": "stream",
     "text": [
      "-8\n",
      "-8\n"
     ]
    }
   ],
   "source": [
    "def minus(a, b):\n",
    "    return a - b\n",
    "\n",
    "print(minus(a=12, b=20))\n",
    "print(minus(b=20, a=12))"
   ]
  },
  {
   "cell_type": "code",
   "execution_count": 4,
   "id": "8ab10402",
   "metadata": {},
   "outputs": [
    {
     "name": "stdout",
     "output_type": "stream",
     "text": [
      "200\n",
      "200\n"
     ]
    }
   ],
   "source": [
    "def f1(b):\n",
    "    b = 100\n",
    "\n",
    "a = 200\n",
    "f1(a)\n",
    "print(a)"
   ]
  },
  {
   "cell_type": "code",
   "execution_count": 5,
   "id": "29ea1454",
   "metadata": {},
   "outputs": [],
   "source": [
    "def pr_fibo(n):\n",
    "    a, b = 1, 0\n",
    "    while a < n:\n",
    "        print(a, sep=' ')\n",
    "        a, b = a + b, a"
   ]
  },
  {
   "cell_type": "code",
   "execution_count": 6,
   "id": "55e0754f",
   "metadata": {},
   "outputs": [
    {
     "name": "stdout",
     "output_type": "stream",
     "text": [
      "True\n"
     ]
    }
   ],
   "source": [
    "a = 5\n",
    "b = 10\n",
    "print(0 < a < b)"
   ]
  },
  {
   "cell_type": "code",
   "execution_count": 11,
   "id": "c1acd793",
   "metadata": {},
   "outputs": [
    {
     "name": "stdout",
     "output_type": "stream",
     "text": [
      "True\n",
      "100\n",
      "1000\n"
     ]
    }
   ],
   "source": [
    "a = 5\n",
    "b = 10\n",
    "print(0 < a and a < b)\n",
    "print(a > 0 and 100) #뒤에 100을 evalueate????, and는 뒤에까지가고 뒤에것의 결과를 출력\n",
    "print(1000 or 100) #앞이 true니까 뒤로 넘어가지 않는다, 앞의 결과를 출력 (0이 아니니까 True)"
   ]
  },
  {
   "cell_type": "code",
   "execution_count": 14,
   "id": "841c4a0c",
   "metadata": {},
   "outputs": [
    {
     "name": "stdout",
     "output_type": "stream",
     "text": [
      "-1\n",
      "-100\n"
     ]
    }
   ],
   "source": [
    "print(0 or -1) #앞이 거짓이기 때문에 뒤로 넘어가고 -1의 결과인 -1이 출력\n",
    "print( -100 or 0) #앞이 참이기 때문에 뒤를 보지 않아도 된다"
   ]
  },
  {
   "cell_type": "code",
   "execution_count": 15,
   "id": "ac855045",
   "metadata": {},
   "outputs": [
    {
     "name": "stdout",
     "output_type": "stream",
     "text": [
      "True\n",
      "False\n",
      "\n",
      "False\n",
      "True\n",
      "\n",
      "False\n",
      "True\n",
      "\n",
      "False\n",
      "True\n",
      "\n",
      "False\n"
     ]
    }
   ],
   "source": [
    "print(bool('abc'))\n",
    "print(bool('')) # 빈 문자열은 거짓 \n",
    "print()\n",
    "print(bool([])) # 공 리스트는 거짓\n",
    "print(bool([1,2,3]))\n",
    "print()\n",
    "print(bool(())) # 공 튜플은 거짓\n",
    "print(bool((1,2,3)))\n",
    "print()\n",
    "print(bool({})) # 공 사전은 거짓\n",
    "print(bool({1:2}))\n",
    "print()\n",
    "print(bool(None)) # None 객체는 거짓"
   ]
  },
  {
   "cell_type": "code",
   "execution_count": 16,
   "id": "b446052b",
   "metadata": {},
   "outputs": [
    {
     "name": "stdout",
     "output_type": "stream",
     "text": [
      "1\n",
      "()\n",
      "[]\n"
     ]
    }
   ],
   "source": [
    "print([] or 1)  # [] 거짓\n",
    "print([] or ()) # [], () 거짓\n",
    "print([] and 1) # []가 거짓이므로 1은 참조할 필요 없음, 전체적으로 거짓, 그러므로 앞에 []가 출력"
   ]
  },
  {
   "cell_type": "code",
   "execution_count": null,
   "id": "623f0cda",
   "metadata": {},
   "outputs": [],
   "source": []
  }
 ],
 "metadata": {
  "kernelspec": {
   "display_name": "Python 3",
   "language": "python",
   "name": "python3"
  },
  "language_info": {
   "codemirror_mode": {
    "name": "ipython",
    "version": 3
   },
   "file_extension": ".py",
   "mimetype": "text/x-python",
   "name": "python",
   "nbconvert_exporter": "python",
   "pygments_lexer": "ipython3",
   "version": "3.8.8"
  }
 },
 "nbformat": 4,
 "nbformat_minor": 5
}
