{
 "cells": [
  {
   "cell_type": "markdown",
   "id": "d5198205",
   "metadata": {},
   "source": [
    "# 2018136030_노화종_01"
   ]
  },
  {
   "cell_type": "markdown",
   "id": "014443f6",
   "metadata": {},
   "source": [
    "### 1. a = \"Hello Python\" 문자열을 Slicing과 연결 연산자 (+)를 사용하여 \"Python Hello\"로 변경하시오.   \n",
    "### [주의]a 변수 자체에 \"Python Hello\" 문자열이 저장되어야 함"
   ]
  },
  {
   "cell_type": "code",
   "execution_count": 20,
   "id": "202f64cd",
   "metadata": {},
   "outputs": [
    {
     "name": "stdout",
     "output_type": "stream",
     "text": [
      "Python Hello\n"
     ]
    }
   ],
   "source": [
    "a = \"Hello Python\"\n",
    "a = a[6:] + a[5:6] + a[0:5]\n",
    "print(a)"
   ]
  },
  {
   "cell_type": "markdown",
   "id": "da8c317b",
   "metadata": {},
   "source": [
    "* [6:]은 6번째 문자부터 끝까지를 의미하고 이는 Python 이다.\n",
    "* [5:6]은 5번째부터 6번째 이전, 5번째 문자를 의미하고 이는 공백이다.\n",
    "* [0:5]는 0번째부터 5번째 이전을 의미하고 이는 Hello이다."
   ]
  },
  {
   "cell_type": "markdown",
   "id": "d47f8e94",
   "metadata": {},
   "source": [
    "### 2. b=\"Hello Python World\" 문자열을 Slicing과 연결 연산자 (+)를 사용하여 \"World Python Hello\"로 변경하시오.   \n",
    "### [주의] b 변수 자체에 \"World Python Hello\" 문자열이 저장되어야 함"
   ]
  },
  {
   "cell_type": "code",
   "execution_count": 21,
   "id": "b35ccd02",
   "metadata": {},
   "outputs": [
    {
     "name": "stdout",
     "output_type": "stream",
     "text": [
      "World Python Hello\n"
     ]
    }
   ],
   "source": [
    "b = \"Hello Python World\"\n",
    "b = b[13: 18] + b[5:13] + b[0:5]\n",
    "print(b)"
   ]
  },
  {
   "cell_type": "markdown",
   "id": "2b7b80a5",
   "metadata": {},
   "source": [
    "* [13:18]은 13번째 문자부터 18번째 이전 문자열을 나타내고 이는 World를 나타낸다. 하지만 18은 문자열의 인덱스를 벗어나는데 17로 지정하면 d가 출력되지 않기 때문에 18로 설정하였고 파이썬은 슬라이싱을 할 때 인덱스 범위를 벗어나더라고 예외를 발생시키지 않기 때문에 이 같은 코드가 가능하다.   \n",
    "* [5:13]은 5번째부터 13번째 이전, 공백 + Python + 공백을 의미한다.\n",
    "* [0:5]는 0부터 5번 째 이전, Hello를 의미한다."
   ]
  },
  {
   "cell_type": "markdown",
   "id": "42fb21cc",
   "metadata": {},
   "source": [
    "### 3. c=\"Hello\"를 \"olleH\"로 변경하시오   \n",
    "### [주의] c 변수 자체에 \"olleH\" 문자열이 저장되어야 함"
   ]
  },
  {
   "cell_type": "code",
   "execution_count": 3,
   "id": "9ee17536",
   "metadata": {},
   "outputs": [
    {
     "name": "stdout",
     "output_type": "stream",
     "text": [
      "olleH\n"
     ]
    }
   ],
   "source": [
    "c = \"Hello\"\n",
    "c = c[::-1]\n",
    "print(c)"
   ]
  },
  {
   "cell_type": "markdown",
   "id": "44c93ec4",
   "metadata": {},
   "source": [
    "* [::-1]은 전체 문자열에서 각항목 간 -1 간격의 문자를 반환하는 것이다. 그러므로 전체 문자열을 역순으로 순회하게 만들고 c를 출력하면 Hello가 역순으로 변하여 출력된다. "
   ]
  },
  {
   "cell_type": "markdown",
   "id": "33f6f9ca",
   "metadata": {},
   "source": [
    "### 4. s=\"python\"에 대해 다음 문제를 풀어보시오.   \n",
    "A. s[0], s[0][0], s[0][0][0]은 각각 어떤 값이 나오는지 확인하고 그 이유를 나름대로 설명해 보시오.   \n",
    "B. s[-100], s[100]은 값이 나오는지 에러가 나오는지 확인하고 그 결과에 대한 이유를 나름대로 설명해 보시오.   \n",
    "C. s[-100, 100]은 값이 나오는지 에러가 나오는지 확인하고 그 결과에 대한 이유를 나름대로 설명해 보시오.   \n",
    "D. s[1:-1]의 결과를 확인하고 그 결과에 대한 이유를 정확하게 설명하시오.   \n",
    "E. s[3:-3]의 결과를 확인하고 그 결과에 대한 이유를 정확하게 설명하시오."
   ]
  },
  {
   "cell_type": "code",
   "execution_count": 8,
   "id": "c405b421",
   "metadata": {},
   "outputs": [
    {
     "name": "stdout",
     "output_type": "stream",
     "text": [
      "p p p\n"
     ]
    }
   ],
   "source": [
    "s = \"python\"\n",
    "\n",
    "#A\n",
    "print(s[0], s[0][0], s[0][0][0])"
   ]
  },
  {
   "cell_type": "markdown",
   "id": "d1df3d60",
   "metadata": {},
   "source": [
    "* 문자열이 배열에 어떤 방식으로 들어가도 s[0], s[0][0], s[0][0][0]은 항상 배열의 가장 첫 부분을 의미하기 때문에 문자열의 가장 첫 부분인 p가 출력된다고 생각한다."
   ]
  },
  {
   "cell_type": "code",
   "execution_count": 23,
   "id": "5b71c4af",
   "metadata": {},
   "outputs": [
    {
     "ename": "IndexError",
     "evalue": "string index out of range",
     "output_type": "error",
     "traceback": [
      "\u001b[1;31m---------------------------------------------------------------------------\u001b[0m",
      "\u001b[1;31mIndexError\u001b[0m                                Traceback (most recent call last)",
      "\u001b[1;32m<ipython-input-23-a6892a556fb3>\u001b[0m in \u001b[0;36m<module>\u001b[1;34m\u001b[0m\n\u001b[0;32m      1\u001b[0m \u001b[1;31m#B\u001b[0m\u001b[1;33m\u001b[0m\u001b[1;33m\u001b[0m\u001b[1;33m\u001b[0m\u001b[0m\n\u001b[1;32m----> 2\u001b[1;33m \u001b[0mprint\u001b[0m\u001b[1;33m(\u001b[0m\u001b[0ms\u001b[0m\u001b[1;33m[\u001b[0m\u001b[1;33m-\u001b[0m\u001b[1;36m100\u001b[0m\u001b[1;33m]\u001b[0m\u001b[1;33m,\u001b[0m \u001b[0ms\u001b[0m\u001b[1;33m[\u001b[0m\u001b[1;36m100\u001b[0m\u001b[1;33m]\u001b[0m\u001b[1;33m)\u001b[0m\u001b[1;33m\u001b[0m\u001b[1;33m\u001b[0m\u001b[0m\n\u001b[0m",
      "\u001b[1;31mIndexError\u001b[0m: string index out of range"
     ]
    }
   ],
   "source": [
    "#B\n",
    "print(s[-100], s[100])"
   ]
  },
  {
   "cell_type": "markdown",
   "id": "5d03ca39",
   "metadata": {},
   "source": [
    "* 문자열 s가 가질 수 있는 인덱스는 0부터 5까지 혹은 -1부터 -6까지인데 출력하려고 하는 것은 100과 -100이기 때문에 표현 가능한 범위를 넘어서 오류가 발생한다고 할 수 있다. 실제로 오류메세지를 본다면 IndexError : string index out of range 라고 출력이 되는데 인덱스가 범위를 벗어나서 발생하는 오류이다."
   ]
  },
  {
   "cell_type": "code",
   "execution_count": 25,
   "id": "03a7f89e",
   "metadata": {},
   "outputs": [
    {
     "ename": "TypeError",
     "evalue": "string indices must be integers",
     "output_type": "error",
     "traceback": [
      "\u001b[1;31m---------------------------------------------------------------------------\u001b[0m",
      "\u001b[1;31mTypeError\u001b[0m                                 Traceback (most recent call last)",
      "\u001b[1;32m<ipython-input-25-c5cd504a0974>\u001b[0m in \u001b[0;36m<module>\u001b[1;34m\u001b[0m\n\u001b[0;32m      1\u001b[0m \u001b[1;31m#C\u001b[0m\u001b[1;33m\u001b[0m\u001b[1;33m\u001b[0m\u001b[1;33m\u001b[0m\u001b[0m\n\u001b[1;32m----> 2\u001b[1;33m \u001b[0mprint\u001b[0m\u001b[1;33m(\u001b[0m\u001b[0ms\u001b[0m\u001b[1;33m[\u001b[0m\u001b[1;36m1\u001b[0m\u001b[1;33m,\u001b[0m\u001b[1;36m3\u001b[0m\u001b[1;33m]\u001b[0m\u001b[1;33m)\u001b[0m\u001b[1;33m\u001b[0m\u001b[1;33m\u001b[0m\u001b[0m\n\u001b[0m",
      "\u001b[1;31mTypeError\u001b[0m: string indices must be integers"
     ]
    }
   ],
   "source": [
    "#C\n",
    "print(s[-100,100])"
   ]
  },
  {
   "cell_type": "markdown",
   "id": "92904ea4",
   "metadata": {},
   "source": [
    "* 이건 뭘까요....????????"
   ]
  },
  {
   "cell_type": "code",
   "execution_count": 18,
   "id": "3bccb614",
   "metadata": {},
   "outputs": [
    {
     "name": "stdout",
     "output_type": "stream",
     "text": [
      "ytho\n"
     ]
    }
   ],
   "source": [
    "#D\n",
    "print(s[1:-1])"
   ]
  },
  {
   "cell_type": "markdown",
   "id": "91e49266",
   "metadata": {},
   "source": [
    "* s 문자열의 1번째는 y를 의미하고 -1은 문자열의 마지막인 n을 의미한다.\n",
    "* s[1:-1]은 1번째부터 -1 전까지를 의미하기 때문에 y부터 n의 이전인 o까지를 출력하게 되는 것이다."
   ]
  },
  {
   "cell_type": "code",
   "execution_count": 19,
   "id": "6fd02907",
   "metadata": {},
   "outputs": [
    {
     "name": "stdout",
     "output_type": "stream",
     "text": [
      "\n"
     ]
    }
   ],
   "source": [
    "#E\n",
    "print(s[3:-3])"
   ]
  },
  {
   "cell_type": "markdown",
   "id": "522ae8e8",
   "metadata": {},
   "source": [
    "* Python에서 3번쨰는 h를 의미한다. 또 -3 역시 h를 의마한다.\n",
    "* s[1:-1]은 1번째부터 -1 전까지를 의미하기 때문에 둘이 같은 문자를 가리키고 있어 아무것도 출력하지 않는 것이다."
   ]
  },
  {
   "cell_type": "markdown",
   "id": "069b473f",
   "metadata": {},
   "source": [
    "### 5. for문을 활용하여 1부터 100사이의 홀수를 출력하시오."
   ]
  },
  {
   "cell_type": "code",
   "execution_count": 40,
   "id": "08202686",
   "metadata": {},
   "outputs": [
    {
     "name": "stdout",
     "output_type": "stream",
     "text": [
      "1 3 5 7 9 11 13 15 17 19 21 23 25 27 29 31 33 35 37 39 41 43 45 47 49 51 53 55 57 59 61 63 65 67 69 71 73 75 77 79 81 83 85 87 89 91 93 95 97 99 "
     ]
    }
   ],
   "source": [
    "for i in range(1,101,2):\n",
    "    print(i, end = \" \")"
   ]
  },
  {
   "cell_type": "markdown",
   "id": "ff048003",
   "metadata": {},
   "source": [
    "* range(1,101,2)로 설정해서 i가 1부터 100까지 되도록 하였고 간격은 2로 설정해 i가 홀수만 올 수 있게 하였고 이 때, i를 출력하면 홀수만 출력되게 된다.\n",
    "* print문에 end = \" \" 를 설정하여 줄바꿈이 일어나지 않고 문자를 출력하고 공백이 오도록 하였다."
   ]
  },
  {
   "cell_type": "markdown",
   "id": "9489e7a7",
   "metadata": {},
   "source": [
    "### 6. while문을 활용하여 1부터 100사이의 짝수의 합을 계산하여 출력하시오."
   ]
  },
  {
   "cell_type": "code",
   "execution_count": 26,
   "id": "0f379de5",
   "metadata": {},
   "outputs": [
    {
     "name": "stdout",
     "output_type": "stream",
     "text": [
      "2550\n"
     ]
    }
   ],
   "source": [
    "i = 2\n",
    "sum = 0\n",
    "while i <= 100 :\n",
    "    sum += i\n",
    "    i += 2\n",
    "print(sum)"
   ]
  },
  {
   "cell_type": "markdown",
   "id": "cdafa511",
   "metadata": {},
   "source": [
    "* 처음에 i는 2을 의미하고 sum은 0을 의미한다.\n",
    "* 반복문의 조건을 i가 100까지 증가할 수 있도록 하였다.\n",
    "* 반복문이 실행되는 동안 sum은 i의 값을 계속해서 더해주고 i의 값은 2씩 증가하며 짝수만을 가리키게 된다.\n",
    "* i가 100을 넘어갔을 경우, 반복을 종료하고 sum을 출력하면 1부터 100 사이의 짝수의 합을 계산한 결과가 출력되게 된다."
   ]
  },
  {
   "cell_type": "markdown",
   "id": "36201086",
   "metadata": {},
   "source": [
    "### 7. 사용자로 부터 임의의 정수를 입력받고, 해당 숫자를 역순으로 출력하는 프로그램을 작성하시오.   \n",
    "\n",
    "    [실행 예]   \n",
    "\n",
    "     정수를 입력하세요: 3125   \n",
    "     숫자 역순은 5213 입니다."
   ]
  },
  {
   "cell_type": "code",
   "execution_count": 49,
   "id": "a4e063d6",
   "metadata": {},
   "outputs": [
    {
     "name": "stdout",
     "output_type": "stream",
     "text": [
      "정수를 입력하세요 : 3125\n",
      "숫자의 역순은 5213 입니다\n"
     ]
    }
   ],
   "source": [
    "num = input(\"정수를 입력하세요 : \")\n",
    "num = num[::-1]\n",
    "print(\"숫자의 역순은 %s 입니다\" %(num))"
   ]
  },
  {
   "cell_type": "markdown",
   "id": "d6a77bc2",
   "metadata": {},
   "source": [
    "* 사용자의 입력을 받으면 문자열로 입력이 되기 때문에 슬라이싱을 이용하였다.\n",
    "* 위 3번 문제와 동일하게 문자열을 역순으로 돌리고 num을 출력하면 역순으로 된 문자열이 출력되게 된다."
   ]
  },
  {
   "cell_type": "markdown",
   "id": "4e73f558",
   "metadata": {},
   "source": [
    "### 8. 사용자로 부터 정수를 입력받아서 1부터 그 사이에 존재하는 소수 (Prime number)를 출력하는 파이썬 프로그램을 작성하시오."
   ]
  },
  {
   "cell_type": "markdown",
   "id": "d913a59e",
   "metadata": {},
   "source": [
    "### 9. Kevin과 Stuart는 게임을 한다. 규칙은 아래와 같다.   \n",
    "\n",
    "* 두 플레이어에게 같은 string, S, 가 주어진다.\n",
    "* 두 플레이어는 string S의 문자를 사용하여 substring을 만들어야 한다(중복 가능).\n",
    "* Stuart는 자음으로 시작하는 단어를 만들어야 한다.\n",
    "* Kevin은 모음으로 시작하는 단어를 만들어야 한다.\n",
    "* 게임은 두 플레이어가 만들 수 있는 모든 단어를 만들었을 때 끝난다.\n",
    "* 점수 계산 : substring 1개당 +1 점을 획득한다. (아래 그림 참고)      \n",
    "<img src=\"https://nbviewer.jupyter.org/github/linklab/supercharged_python/blob/master/assignment2021/image/assignment1-9.png\" width=\"450px\" height=\"300px\"></img><br/>\n",
    "* 사용자로 부터 대문자로 이루어진 string S를 입력받고, 승자와 그의 점수를 출력하는 프로그램을 작성하시오.   \n",
    "  [실행 예]\n",
    "\n",
    "   string S를 입력하세요: BANANA\n",
    "   승자: Stuart 점수: 12"
   ]
  },
  {
   "cell_type": "markdown",
   "id": "8c00b3e0",
   "metadata": {},
   "source": [
    "### 10. 알파벳 소문자만으로 이루어진 string, S, 가 주어지고 아래 2가지 연산을 수행할 수 있다.   \n",
    "* 추가 : string S의 끝에 알파벳 소문자 하나를 추가한다.\n",
    "* 삭제 : string S의 마지막 문자 하나를 삭제한다. empty string에서 삭제 연산을 수행한 결과는 empty string이다.   \n",
    "두 개의 string, s와 t, 그리고 정수 k가 주어질 때, 정확히 k번의 연산을 통해 s를 t로 바꿀 수 있는지 판단하는 함수를 작성하시오."
   ]
  },
  {
   "cell_type": "code",
   "execution_count": null,
   "id": "c339a9db",
   "metadata": {},
   "outputs": [],
   "source": [
    "def appendDelete(s, t, k):\n",
    "    '''\n",
    "    함수 포맷 변경하지 마세요.\n",
    "    s를 정확히 k번의 연산을 통해 t로 바꿀 수 있다면 'Yes'를 아니면 'No'를 return 해주세요.\n",
    "    '''\n",
    "    return 'Yes'    # or 'No'"
   ]
  },
  {
   "cell_type": "markdown",
   "id": "c687f416",
   "metadata": {},
   "source": [
    "* [예시]\n",
    "\n",
    "   1. s = 'hackerhappy'    t = 'hackerrank'    k = 9    => 'Yes'\n",
    "\n",
    "   2. s = 'aba'            t = 'aba'           k = 7    => 'Yes'\n",
    "\n",
    "   3. s = 'ashley'         t = 'ash'           k = 2    => 'No'"
   ]
  },
  {
   "cell_type": "markdown",
   "id": "0ddc89ca",
   "metadata": {},
   "source": [
    "# 현재까지 강의를 들은 후의 소감, 숙제를 한 이후의 소감, 또는 전하고자 하는 말 등을 짧막하게라도 좋으니 jupyter notebook 마지막 markdown cell에 함께 작성하여 제출하시오."
   ]
  }
 ],
 "metadata": {
  "kernelspec": {
   "display_name": "Python 3",
   "language": "python",
   "name": "python3"
  },
  "language_info": {
   "codemirror_mode": {
    "name": "ipython",
    "version": 3
   },
   "file_extension": ".py",
   "mimetype": "text/x-python",
   "name": "python",
   "nbconvert_exporter": "python",
   "pygments_lexer": "ipython3",
   "version": "3.8.8"
  }
 },
 "nbformat": 4,
 "nbformat_minor": 5
}
