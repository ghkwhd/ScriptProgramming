{
 "cells": [
  {
   "cell_type": "markdown",
   "id": "d5198205",
   "metadata": {},
   "source": [
    "# 2018136030_노화종_01"
   ]
  },
  {
   "cell_type": "markdown",
   "id": "014443f6",
   "metadata": {},
   "source": [
    "### 1. a = \"Hello Python\" 문자열을 Slicing과 연결 연산자 (+)를 사용하여 \"Python Hello\"로 변경하시오.   \n",
    "### [주의]a 변수 자체에 \"Python Hello\" 문자열이 저장되어야 함"
   ]
  },
  {
   "cell_type": "code",
   "execution_count": 20,
   "id": "202f64cd",
   "metadata": {},
   "outputs": [
    {
     "name": "stdout",
     "output_type": "stream",
     "text": [
      "Python Hello\n"
     ]
    }
   ],
   "source": [
    "a = \"Hello Python\"\n",
    "a = a[6:] + a[5:6] + a[0:5]\n",
    "print(a)"
   ]
  },
  {
   "cell_type": "markdown",
   "id": "f1d7bcee",
   "metadata": {},
   "source": [
    "* [6:]은 6번째 문자부터 끝까지를 의미하고 이는 Python 이다.\n",
    "* [5:6]은 5번째부터 6번째 이전, 5번째 문자를 의미하고 이는 공백이다.\n",
    "* [0:5]는 0번째부터 5번째 이전을 의미하고 이는 Hello이다."
   ]
  },
  {
   "cell_type": "markdown",
   "id": "d47f8e94",
   "metadata": {},
   "source": [
    "### 2. b=\"Hello Python World\" 문자열을 Slicing과 연결 연산자 (+)를 사용하여 \"World Python Hello\"로 변경하시오.   \n",
    "### [주의] b 변수 자체에 \"World Python Hello\" 문자열이 저장되어야 함"
   ]
  },
  {
   "cell_type": "code",
   "execution_count": 21,
   "id": "6e7fdf89",
   "metadata": {},
   "outputs": [
    {
     "name": "stdout",
     "output_type": "stream",
     "text": [
      "World Python Hello\n"
     ]
    }
   ],
   "source": [
    "b = \"Hello Python World\"\n",
    "b = b[13: 18] + b[5:13] + b[0:5]\n",
    "print(b)"
   ]
  },
  {
   "cell_type": "markdown",
   "id": "af321c91",
   "metadata": {},
   "source": [
    "* [13:18]은 13번째 문자부터 18번째 이전 문자열을 나타내고 이는 World를 나타낸다. 하지만 18은 문자열의 인덱스를 벗어나는데 17로 지정하면 d가 출력되지 않기 때문에 18로 설정하였고 파이썬은 슬라이싱을 할 때 인덱스 범위를 벗어나더라고 예외를 발생시키지 않기 때문에 이 같은 코드가 가능하다.   \n",
    "* [5:13]은 5번째부터 13번째 이전, 공백 + Python + 공백을 의미한다.\n",
    "* [0:5]는 0부터 5번 째 이전, Hello를 의미한다."
   ]
  },
  {
   "cell_type": "markdown",
   "id": "42fb21cc",
   "metadata": {},
   "source": [
    "### 3. c=\"Hello\"를 \"olleH\"로 변경하시오   \n",
    "### [주의] c 변수 자체에 \"olleH\" 문자열이 저장되어야 함"
   ]
  },
  {
   "cell_type": "code",
   "execution_count": 3,
   "id": "9ee17536",
   "metadata": {},
   "outputs": [
    {
     "name": "stdout",
     "output_type": "stream",
     "text": [
      "olleH\n"
     ]
    }
   ],
   "source": [
    "c = \"Hello\"\n",
    "c = c[::-1]\n",
    "print(c)"
   ]
  },
  {
   "cell_type": "markdown",
   "id": "d16a8f5d",
   "metadata": {},
   "source": [
    "* [::-1]은 전체 문자열에서 각항목 간 -1 간격의 문자를 반환하는 것이다. 그러므로 전체 문자열을 역순으로 순회하게 만들고 c를 출력하면 Hello가 역순으로 변하여 출력된다. "
   ]
  },
  {
   "cell_type": "markdown",
   "id": "33f6f9ca",
   "metadata": {},
   "source": [
    "### 4. s=\"python\"에 대해 다음 문제를 풀어보시오.   \n",
    "A. s[0], s[0][0], s[0][0][0]은 각각 어떤 값이 나오는지 확인하고 그 이유를 나름대로 설명해 보시오.   \n",
    "B. s[-100], s[100]은 값이 나오는지 에러가 나오는지 확인하고 그 결과에 대한 이유를 나름대로 설명해 보시오.   \n",
    "C. s[-100, 100]은 값이 나오는지 에러가 나오는지 확인하고 그 결과에 대한 이유를 나름대로 설명해 보시오.   \n",
    "D. s[1:-1]의 결과를 확인하고 그 결과에 대한 이유를 정확하게 설명하시오.   \n",
    "E. s[3:-3]의 결과를 확인하고 그 결과에 대한 이유를 정확하게 설명하시오."
   ]
  },
  {
   "cell_type": "code",
   "execution_count": 8,
   "id": "34fcab09",
   "metadata": {},
   "outputs": [
    {
     "name": "stdout",
     "output_type": "stream",
     "text": [
      "p p p\n"
     ]
    }
   ],
   "source": [
    "s = \"python\"\n",
    "\n",
    "#A\n",
    "print(s[0], s[0][0], s[0][0][0])"
   ]
  },
  {
   "cell_type": "markdown",
   "id": "dbba2299",
   "metadata": {},
   "source": [
    "* 문자열이 배열에 어떤 방식으로 들어가도 s[0], s[0][0], s[0][0][0]은 항상 배열의 가장 첫 부분을 의미하기 때문에 문자열의 가장 첫 부분인 p가 출력된다고 생각한다."
   ]
  },
  {
   "cell_type": "code",
   "execution_count": 23,
   "id": "93f361d6",
   "metadata": {},
   "outputs": [
    {
     "ename": "IndexError",
     "evalue": "string index out of range",
     "output_type": "error",
     "traceback": [
      "\u001b[1;31m---------------------------------------------------------------------------\u001b[0m",
      "\u001b[1;31mIndexError\u001b[0m                                Traceback (most recent call last)",
      "\u001b[1;32m<ipython-input-23-a6892a556fb3>\u001b[0m in \u001b[0;36m<module>\u001b[1;34m\u001b[0m\n\u001b[0;32m      1\u001b[0m \u001b[1;31m#B\u001b[0m\u001b[1;33m\u001b[0m\u001b[1;33m\u001b[0m\u001b[1;33m\u001b[0m\u001b[0m\n\u001b[1;32m----> 2\u001b[1;33m \u001b[0mprint\u001b[0m\u001b[1;33m(\u001b[0m\u001b[0ms\u001b[0m\u001b[1;33m[\u001b[0m\u001b[1;33m-\u001b[0m\u001b[1;36m100\u001b[0m\u001b[1;33m]\u001b[0m\u001b[1;33m,\u001b[0m \u001b[0ms\u001b[0m\u001b[1;33m[\u001b[0m\u001b[1;36m100\u001b[0m\u001b[1;33m]\u001b[0m\u001b[1;33m)\u001b[0m\u001b[1;33m\u001b[0m\u001b[1;33m\u001b[0m\u001b[0m\n\u001b[0m",
      "\u001b[1;31mIndexError\u001b[0m: string index out of range"
     ]
    }
   ],
   "source": [
    "#B\n",
    "print(s[-100], s[100])"
   ]
  },
  {
   "cell_type": "markdown",
   "id": "1191ed60",
   "metadata": {},
   "source": [
    "* 에러가 발생한다.\n",
    "* 문자열 s가 가질 수 있는 인덱스는 0부터 5까지 혹은 -1부터 -6까지인데 출력하려고 하는 것은 100과 -100이기 때문에 표현 가능한 범위를 넘어서 오류가 발생한다고 할 수 있다. 실제로 오류메세지를 본다면 IndexError : string index out of range 라고 출력이 되는데 인덱스가 범위를 벗어나서 발생하는 오류이다."
   ]
  },
  {
   "cell_type": "code",
   "execution_count": 7,
   "id": "a2313cfc",
   "metadata": {},
   "outputs": [
    {
     "ename": "TypeError",
     "evalue": "string indices must be integers",
     "output_type": "error",
     "traceback": [
      "\u001b[1;31m---------------------------------------------------------------------------\u001b[0m",
      "\u001b[1;31mTypeError\u001b[0m                                 Traceback (most recent call last)",
      "\u001b[1;32m<ipython-input-7-8e4c7f34417f>\u001b[0m in \u001b[0;36m<module>\u001b[1;34m\u001b[0m\n\u001b[0;32m      1\u001b[0m \u001b[1;31m#C\u001b[0m\u001b[1;33m\u001b[0m\u001b[1;33m\u001b[0m\u001b[1;33m\u001b[0m\u001b[0m\n\u001b[1;32m----> 2\u001b[1;33m \u001b[0mprint\u001b[0m\u001b[1;33m(\u001b[0m\u001b[0ms\u001b[0m\u001b[1;33m[\u001b[0m\u001b[1;33m-\u001b[0m\u001b[1;36m100\u001b[0m\u001b[1;33m,\u001b[0m\u001b[1;36m100\u001b[0m\u001b[1;33m]\u001b[0m\u001b[1;33m)\u001b[0m\u001b[1;33m\u001b[0m\u001b[1;33m\u001b[0m\u001b[0m\n\u001b[0m",
      "\u001b[1;31mTypeError\u001b[0m: string indices must be integers"
     ]
    }
   ],
   "source": [
    "#C\n",
    "print(s[-100,100])"
   ]
  },
  {
   "cell_type": "markdown",
   "id": "ccbfe6ac",
   "metadata": {},
   "source": [
    "* 에러가 발생한다.\n",
    "* [-100,100]이라는 형식은 잘못된 형식이라고 생각한다. 슬라이싱을 사용하려면 , 가 아니라 :를 사용해야하고 특정 문자열의 인덱스를 알기 위해서는 정수형으로 하나의 숫자만 사용해야하는데 , 로 구분하여 두 개를 사용해서 에러가 발생한다고 생각한다.\n",
    "* string indices must be integers 에러는 형오류이고 문자열의 인덱스는 정수형으로 해야한다는 말이라고 한다."
   ]
  },
  {
   "cell_type": "code",
   "execution_count": 18,
   "id": "4aa73a23",
   "metadata": {},
   "outputs": [
    {
     "name": "stdout",
     "output_type": "stream",
     "text": [
      "ytho\n"
     ]
    }
   ],
   "source": [
    "#D\n",
    "print(s[1:-1])"
   ]
  },
  {
   "cell_type": "markdown",
   "id": "74be35e6",
   "metadata": {},
   "source": [
    "* s 문자열의 1번째는 y를 의미하고 -1은 문자열의 마지막인 n을 의미한다.\n",
    "* s[1:-1]은 1번째부터 -1 전까지를 의미하기 때문에 y부터 n의 이전인 o까지를 출력하게 되는 것이다."
   ]
  },
  {
   "cell_type": "code",
   "execution_count": 27,
   "id": "0c301f98",
   "metadata": {},
   "outputs": [
    {
     "name": "stdout",
     "output_type": "stream",
     "text": [
      "\n"
     ]
    }
   ],
   "source": [
    "#E\n",
    "print(s[3:-3])"
   ]
  },
  {
   "cell_type": "markdown",
   "id": "503439fd",
   "metadata": {},
   "source": [
    "* Python에서 3번쨰는 h를 의미한다. 또 -3 역시 h를 의마한다.\n",
    "* s[1:-1]은 1번째부터 -1 전까지를 의미하기 때문에 둘이 같은 문자를 가리키고 있어 아무것도 출력하지 않는 것이다."
   ]
  },
  {
   "cell_type": "markdown",
   "id": "069b473f",
   "metadata": {},
   "source": [
    "### 5. for문을 활용하여 1부터 100사이의 홀수를 출력하시오."
   ]
  },
  {
   "cell_type": "code",
   "execution_count": 40,
   "id": "08202686",
   "metadata": {},
   "outputs": [
    {
     "name": "stdout",
     "output_type": "stream",
     "text": [
      "1 3 5 7 9 11 13 15 17 19 21 23 25 27 29 31 33 35 37 39 41 43 45 47 49 51 53 55 57 59 61 63 65 67 69 71 73 75 77 79 81 83 85 87 89 91 93 95 97 99 "
     ]
    }
   ],
   "source": [
    "for i in range(1,101,2):\n",
    "    print(i, end = \" \")"
   ]
  },
  {
   "cell_type": "markdown",
   "id": "38d9c8a0",
   "metadata": {},
   "source": [
    "* range(1,101,2)로 설정해서 i가 1부터 100까지 되도록 하였고 간격은 2로 설정해 i가 홀수만 올 수 있게 하였고 이 때, i를 출력하면 홀수만 출력되게 된다.\n",
    "* print문에 end = \" \" 를 설정하여 줄바꿈이 일어나지 않고 문자를 출력하고 공백이 오도록 하였다."
   ]
  },
  {
   "cell_type": "markdown",
   "id": "9489e7a7",
   "metadata": {},
   "source": [
    "### 6. while문을 활용하여 1부터 100사이의 짝수의 합을 계산하여 출력하시오."
   ]
  },
  {
   "cell_type": "code",
   "execution_count": 26,
   "id": "0f379de5",
   "metadata": {},
   "outputs": [
    {
     "name": "stdout",
     "output_type": "stream",
     "text": [
      "2550\n"
     ]
    }
   ],
   "source": [
    "i = 2\n",
    "sum = 0\n",
    "while i <= 100 :\n",
    "    sum += i\n",
    "    i += 2\n",
    "print(sum)"
   ]
  },
  {
   "cell_type": "markdown",
   "id": "d13b5ef1",
   "metadata": {},
   "source": [
    "* 처음에 i는 2을 의미하고 sum은 0을 의미한다.\n",
    "* 반복문의 조건을 i가 100까지 증가할 수 있도록 하였다.\n",
    "* 반복문이 실행되는 동안 sum은 i의 값을 계속해서 더해주고 i의 값은 2씩 증가하며 짝수만을 가리키게 된다.\n",
    "* i가 100을 넘어갔을 경우, 반복을 종료하고 sum을 출력하면 1부터 100 사이의 짝수의 합을 계산한 결과가 출력되게 된다."
   ]
  },
  {
   "cell_type": "markdown",
   "id": "36201086",
   "metadata": {},
   "source": [
    "### 7. 사용자로 부터 임의의 정수를 입력받고, 해당 숫자를 역순으로 출력하는 프로그램을 작성하시오.   \n",
    "\n",
    "    [실행 예]   \n",
    "\n",
    "     정수를 입력하세요: 3125   \n",
    "     숫자 역순은 5213 입니다."
   ]
  },
  {
   "cell_type": "code",
   "execution_count": 8,
   "id": "a4e063d6",
   "metadata": {},
   "outputs": [
    {
     "name": "stdout",
     "output_type": "stream",
     "text": [
      "정수를 입력하세요 : 1234\n",
      "숫자의 역순은 4321 입니다\n"
     ]
    }
   ],
   "source": [
    "num = input(\"정수를 입력하세요 : \")\n",
    "num = num[::-1]\n",
    "print(\"숫자의 역순은 %s 입니다\" %(num))"
   ]
  },
  {
   "cell_type": "markdown",
   "id": "9e0b6ae8",
   "metadata": {},
   "source": [
    "* 사용자의 입력을 받으면 문자열로 입력이 되기 때문에 슬라이싱을 이용하였다.\n",
    "* 위 3번 문제와 동일하게 문자열을 역순으로 돌리고 num을 출력하면 역순으로 된 문자열이 출력되게 된다."
   ]
  },
  {
   "cell_type": "markdown",
   "id": "4e73f558",
   "metadata": {},
   "source": [
    "### 8. 사용자로 부터 정수를 입력받아서 1부터 그 사이에 존재하는 소수 (Prime number)를 출력하는 파이썬 프로그램을 작성하시오."
   ]
  },
  {
   "cell_type": "code",
   "execution_count": 12,
   "id": "c7fe00a4",
   "metadata": {},
   "outputs": [
    {
     "name": "stdout",
     "output_type": "stream",
     "text": [
      "양의 정수를 입력하세요 : 100\n",
      "2 3 5 7 11 13 17 19 23 29 31 37 41 43 47 53 59 61 67 71 73 79 83 89 97 "
     ]
    }
   ],
   "source": [
    "num = int(input(\"양의 정수를 입력하세요 : \"))\n",
    "for i in range(num+1) :\n",
    "    for j in range(2,i+1) :\n",
    "        if i % j == 0 :\n",
    "            break\n",
    "    if i == j :\n",
    "        print(i, end = \" \")"
   ]
  },
  {
   "cell_type": "markdown",
   "id": "b056dc9c",
   "metadata": {},
   "source": [
    "* 사용자로부터 input을 통해 문자열을 입력받고 이를 정수로 변환한다.\n",
    "* 1부터 사용자가 입력한 수 사이에 존재하는 소수를 찾아야하기 때문에 range(num+1)로 하여 사용자가 입력한 수까지 반복할 수 있도록 한다.\n",
    "* 1로 나누면 무조건 나누어떨어지기 때문에 나누는 수를 2부터 자기 자신까지 반복시킨다.\n",
    "* 나누어떨어졌을 경우 반복문을 중단시킨다.\n",
    "* 나누는 반복문이 끝나고 확인했을 때, 나눠지는 수와 나누는 수가 같을 경우 자기 자신을 제외한 수로 나누어떨어지지 않았다는 것이기 때문에 소수이므로 그 "
   ]
  },
  {
   "cell_type": "markdown",
   "id": "d913a59e",
   "metadata": {},
   "source": [
    "### 9. Kevin과 Stuart는 게임을 한다. 규칙은 아래와 같다.   \n",
    "\n",
    "* 두 플레이어에게 같은 string, S, 가 주어진다.\n",
    "* 두 플레이어는 string S의 문자를 사용하여 substring을 만들어야 한다(중복 가능).\n",
    "* Stuart는 자음으로 시작하는 단어를 만들어야 한다.\n",
    "* Kevin은 모음으로 시작하는 단어를 만들어야 한다.\n",
    "* 게임은 두 플레이어가 만들 수 있는 모든 단어를 만들었을 때 끝난다.\n",
    "* 점수 계산 : substring 1개당 +1 점을 획득한다. (아래 그림 참고)      \n",
    "<img src=\"https://nbviewer.jupyter.org/github/linklab/supercharged_python/blob/master/assignment2021/image/assignment1-9.png\" width=\"450px\" height=\"300px\"></img><br/>\n",
    "* 사용자로 부터 대문자로 이루어진 string S를 입력받고, 승자와 그의 점수를 출력하는 프로그램을 작성하시오.   \n",
    "  [실행 예]\n",
    "\n",
    "   string S를 입력하세요: BANANA\n",
    "   승자: Stuart 점수: 12"
   ]
  },
  {
   "cell_type": "code",
   "execution_count": 40,
   "id": "d9f44c41",
   "metadata": {},
   "outputs": [
    {
     "name": "stdout",
     "output_type": "stream",
     "text": [
      "string S를 입력하세요 : notebook\n",
      "승자 = Stuart , 점수 =  19\n",
      "\n",
      "Stuart의 substring =  ['n', 't', 'b', 'k', 'no', 'te', 'bo', 'not', 'teb', 'boo', 'note', 'tebo', 'book', 'noteb', 'teboo', 'notebo', 'tebook', 'noteboo', 'notebook']\n",
      "Kevin의 substring =  ['o', 'e', 'o', 'o', 'ot', 'eb', 'oo', 'ok', 'ote', 'ebo', 'ook', 'oteb', 'eboo', 'otebo', 'ebook', 'oteboo', 'otebook']\n"
     ]
    }
   ],
   "source": [
    "str = input('string S를 입력하세요 : ')\n",
    "\n",
    "score_Stuart = 0\n",
    "score_Kevin = 0\n",
    "\n",
    "pos1 = [] #자음 위치\n",
    "pos2 = [] #모음 위치\n",
    "\n",
    "sub1 = [] #자음으로 시작하는 단어\n",
    "sub2 = [] #모음으로 시작하는 단어\n",
    "\n",
    "#자음, 모음 위치 파악\n",
    "for i in range(len(str)) :\n",
    "    if str[i] == 'a' or str[i] == 'e' or str[i] == 'i' or str[i] == 'o' or str[i] == 'u' :\n",
    "        pos2.append(i)\n",
    "    else :\n",
    "        pos1.append(i)      \n",
    "\n",
    "#substring 생성\n",
    "#자음으로 시작하는 단어\n",
    "for j in range(len(str)) :\n",
    "    for i in pos1 :\n",
    "        if int(i)+j+1 > len(str) :\n",
    "            pass\n",
    "        else :\n",
    "            sub1.append(str[int(i):int(i)+j+1])\n",
    "            score_Stuart += 1\n",
    "\n",
    "#모음으로 시작하는 단어\n",
    "for j in range(len(str)) :\n",
    "    for i in pos2 :\n",
    "        if int(i)+j+1 > len(str) :\n",
    "            pass\n",
    "        else :\n",
    "            sub2.append(str[int(i):int(i)+j+1])\n",
    "            score_Kevin += 1\n",
    "            \n",
    "if score_Stuart > score_Kevin :\n",
    "    print('승자 = Stuart', ', 점수 = ', score_Stuart)\n",
    "else :\n",
    "    print('승자 = Kevin', ', 점수 = ', score_Kevin)\n",
    "    \n",
    "print() \n",
    "print('Stuart의 substring = ', sub1)\n",
    "print('Kevin의 substring = ', sub2)"
   ]
  },
  {
   "cell_type": "markdown",
   "id": "9205cf11",
   "metadata": {},
   "source": [
    "* 처음에 Stuart와 Kevin의 점수를 계산할 변수를 선언하였고 중복이 가능하도록 자음의 위치, 모음의 위치, substring을 저장할 리스트를 선언하였다.\n",
    "* 입력받은 문자열의 길이만큼 반복을 시키면서 조건문을 통해 자음과 모음의 위치를 찾아내었다.\n",
    "* 위치를 찾아낸 이후 모든 substring을 찾아내기 위해 이중반복문을 사용하였다.\n",
    "* 처음 반복문의 반복 범위는 문자열의 길이만큼이고 이는 입력받은 문자열의 끝까지 반복하기 위함이다.\n",
    "* 두 번째 반복문은 자음 혹은 모음이 저장된 리스트에서 반복되게 하였다. 저장된 위치에서부터 특정 글자 수 만큼 자르면서 자음 혹은 모음으로 시작하는 단어를 생성하기 위함이다.\n",
    "* 문자열을 자르는 것은 슬라이싱을 사용하였고 마지막의 문자는 포함하지 않기 때문에 +1을 붙여주었다.\n",
    "* 반복문 내부에 조건문을 설정하였는데 마지막 문자가 입력받은 문자열의 길이를 넘는다면 그 문자열은 포함하지 않았고 넘지 않는다면 문자열을 잘라 substring을 저장하는 리스트에 저장하였다. 이 때 저장을 하면서 점수를 +1씩 해주었다.\n",
    "* 이를 계속 반복하여 모든 substring을 구하고 점수를 확인하여 더 높은 점수의 사람의 이름과 점수를 출력하였고 확인을 위해 모든 사람의 substring을 출력하였다."
   ]
  },
  {
   "cell_type": "markdown",
   "id": "8c00b3e0",
   "metadata": {},
   "source": [
    "### 10. 알파벳 소문자만으로 이루어진 string, S, 가 주어지고 아래 2가지 연산을 수행할 수 있다.   \n",
    "* 추가 : string S의 끝에 알파벳 소문자 하나를 추가한다.\n",
    "* 삭제 : string S의 마지막 문자 하나를 삭제한다. empty string에서 삭제 연산을 수행한 결과는 empty string이다.     \n",
    "* 두 개의 string, s와 t, 그리고 정수 k가 주어질 때, 정확히 k번의 연산을 통해 s를 t로 바꿀 수 있는지 판단하는 함수를 작성하시오."
   ]
  },
  {
   "cell_type": "code",
   "execution_count": null,
   "id": "c339a9db",
   "metadata": {},
   "outputs": [],
   "source": [
    "def appendDelete(s, t, k):\n",
    "    '''\n",
    "    함수 포맷 변경하지 마세요.\n",
    "    s를 정확히 k번의 연산을 통해 t로 바꿀 수 있다면 'Yes'를 아니면 'No'를 return 해주세요.\n",
    "    '''\n",
    "    return 'Yes'    # or 'No'"
   ]
  },
  {
   "cell_type": "markdown",
   "id": "c687f416",
   "metadata": {},
   "source": [
    "* [예시]\n",
    "\n",
    "   1. s = 'hackerhappy'    t = 'hackerrank'    k = 9    => 'Yes'\n",
    "\n",
    "   2. s = 'aba'            t = 'aba'           k = 7    => 'Yes'\n",
    "\n",
    "   3. s = 'ashley'         t = 'ash'           k = 2    => 'No'"
   ]
  },
  {
   "cell_type": "code",
   "execution_count": 6,
   "id": "b6f006f3",
   "metadata": {},
   "outputs": [
    {
     "name": "stdout",
     "output_type": "stream",
     "text": [
      "문자열을 입력하세요 : note\n",
      "변경하고싶은 문자열을 입력하세요 : notebook\n",
      "몇 번만에 바꾸고 싶습니까? : 4\n",
      "Yes\n"
     ]
    }
   ],
   "source": [
    "str1 = input('문자열을 입력하세요 : ')\n",
    "str2 = input('변경하고싶은 문자열을 입력하세요 : ')\n",
    "attempt = int(input('몇 번만에 바꾸고 싶습니까? : '))\n",
    "\n",
    "def appendDelete(s, t, k):\n",
    "    i = 0 #연산 시도 횟수\n",
    "    \n",
    "    if len(s) > len(t) :\n",
    "        length = len(t)\n",
    "    else :\n",
    "        length = len(s)\n",
    "    \n",
    "    #다른 문자가 시작되는 위치 찾기\n",
    "    for pos in range(length) :\n",
    "        if s[pos] != t[pos] :\n",
    "            break\n",
    "            \n",
    "    # 문자열이 포함되는 경우와 짧은 문자열의 마지막부분이 다른 경우의 결과가 같다.\n",
    "    # 문자열이 포함되는 경우 pos를 하나 늘려서 그 다음 위치부터 삭제나 추가가 실행되도록 한다.\n",
    "    if s[pos] == t[pos] :\n",
    "        pos += 1\n",
    "        \n",
    "    #삭제하는 횟수\n",
    "    #삭제할 필요가 없다면 넘어간다. (같거나 s가 t에 포함되는 경우)\n",
    "    if len(s) - pos < 0 :\n",
    "        pass\n",
    "    else :\n",
    "        i += len(s) - pos\n",
    "    \n",
    "    #추가하는 횟수\n",
    "    #추가할 필요가 없다면 넘어간다. (같거나 t가 s에 포함되는 경우)\n",
    "    if len(t) - pos < 0 :\n",
    "        pass\n",
    "    else :\n",
    "        i += len(t) - pos\n",
    "    \n",
    "    #사용자가 입력한 연산의 수와 동일한 경우\n",
    "    if i == k :\n",
    "        return 'Yes'    \n",
    "    else :\n",
    "        if i == 0 :               #문자열이 같아서 변경이 필요없는 경우\n",
    "            if k >= (len(s) + len(t)) :  #문자열을 다 삭제하고 다시 작성하는 횟수보다 크다면 가능 (빈 문자열은 빼도 빈 문자열이기 때문에)\n",
    "                return 'Yes'\n",
    "            else :              #다 삭제하고 다시 작성하는 횟수를 만족하지 못하는 경우\n",
    "                return 'No'\n",
    "        elif k >= (len(s) + len(t)) :\n",
    "            return 'Yes'\n",
    "        else :\n",
    "            return 'No'\n",
    "print(appendDelete(str1,str2,attempt))"
   ]
  },
  {
   "cell_type": "markdown",
   "id": "749e956a",
   "metadata": {},
   "source": [
    "* 사용자에게 문자열, 변경하고 싶은 문자열, 변경 횟수를 입력받았다.\n",
    "* 함수 내에서 조건문을 사용하여 문자열의 길이가 더 짧은 문자열을 찾고 그 길이를 변수에 저장하였다.\n",
    "* 짧은 변수의 길이만큼 반복문을 돌리며 처음부터 시작해 문자가 달라지는 위치를 찾아내었다.\n",
    "* 이 때, 어느 문자열이 한 문자열에 포함되거나 짧은 문자열의 마지막 부분과 다를 경우의 결과가 같기 때문에 조건문을 사용하여 문자열이 같다면 위치를 +1을 시켜주도록 하였다.\n",
    "* 문자열의 삭제는 처음 입력된 문자열에서 수행해야하기 때문에 처음 입력된 문자열의 길이에서 문자가 다른 위치를 빼주었다. 이 때, 첫 번째 문자열과 두 번째 문자열이 같거나 첫 번째 문자열이 두 번째 문자열에 포함되는 경우, 차를 수행하면 음수의 값이 나오기 때문에 아무 변화 없도록 하였고 만약 양수라면 값을 더해주어 삭제 시도 횟수를 저장하였다.\n",
    "* 문자열의 추가는 두 번째 문자열만큼 만들어야하기 때문에 두 번째 문자열에서 위치를 빼주었는데 이 역시 문자열이거나 두 번째 문자열이 첫 번째 문자열에 포함되는 경우 음수가 나오기 때문에 조건문을 작성하여 음수인 경우에는 실행하지 않게 하였다.\n",
    "* 사용자가 입력한 연산의 횟수와 시도된 횟수가 같다면 Yes를 출력\n",
    "* 같지 않은 경우에 문자열이 같은 경우에 문자열을 다 삭제하고 다시 추가하는 횟수보다 크다면 Yes를 출력하였다.\n",
    "* 같지 않은 경우에 문자열을 다 삭제하고 다시 작성하는 횟수보다 크다면 이 역시 Yes를 출력하였다.\n",
    "* 이 경우를 제외하고는 모두 No를 출력하도록 하였다."
   ]
  },
  {
   "cell_type": "markdown",
   "id": "2f692aed",
   "metadata": {},
   "source": [
    "## 지금까지 하루는 실시간 강의, 하루는 온라인 강의로 수업을 들었는데 하루는 실시간으로 들으면서 다른 화면에서 직접 연습해보고 또 하루는 온라인 강의를 들으며 파이썬에 대해 기초부터 공부하는 것이 많은 도움이 되었습니다. 아나콘다와 주피터 노트북이라는 것을 몰랐는데 이번 수업을 통해 알게 되어서 좋고 또 과제를 수행하면서 gitbub와 markdown 문법을 사용해보는 것 역시 좋은 경험이라고 생각합니다. 그리고 과제를 하면서 초반에는 간단한 문제를 해결하는 것이었는데 마지막 두 문제 같은 경우는 많이 생각을 하고 코드를 작성해야하는 문제여서 간단한 문제만 해결하는 것에 비해 지루하지 않고 훨씬 재밌게 과제를 수행했던 것 같습니다. 하지만 작성된 코드는 그렇게 깔끔한 코드는 아닌 것 같다는 생각이 들었습니다."
   ]
  }
 ],
 "metadata": {
  "kernelspec": {
   "display_name": "Python 3",
   "language": "python",
   "name": "python3"
  },
  "language_info": {
   "codemirror_mode": {
    "name": "ipython",
    "version": 3
   },
   "file_extension": ".py",
   "mimetype": "text/x-python",
   "name": "python",
   "nbconvert_exporter": "python",
   "pygments_lexer": "ipython3",
   "version": "3.8.8"
  }
 },
 "nbformat": 4,
 "nbformat_minor": 5
}
