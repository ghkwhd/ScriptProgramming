{
 "cells": [
  {
   "cell_type": "markdown",
   "id": "014443f6",
   "metadata": {},
   "source": [
    "1. a = \"Hello Python\" 문자열을 Slicing과 연결 연산자 (+)를 사용하여 \"Python Hello\"로 변경하시오.   \n",
    "[주의]a 변수 자체에 \"Python Hello\" 문자열이 저장되어야 함"
   ]
  },
  {
   "cell_type": "markdown",
   "id": "d47f8e94",
   "metadata": {},
   "source": [
    "2. b=\"Hello Python World\" 문자열을 Slicing과 연결 연산자 (+)를 사용하여 \"World Python Hello\"로 변경하시오.   \n",
    "[주의] b 변수 자체에 \"World Python Hello\" 문자열이 저장되어야 함"
   ]
  },
  {
   "cell_type": "markdown",
   "id": "42fb21cc",
   "metadata": {},
   "source": [
    "3. c=\"Hello\"를 \"olleH\"로 변경하시오   \n",
    "[주의] c 변수 자체에 \"olleH\" 문자열이 저장되어야 함"
   ]
  },
  {
   "cell_type": "markdown",
   "id": "33f6f9ca",
   "metadata": {},
   "source": [
    "4. s=\"python\"에 대해 다음 문제를 풀어보시오.   \n",
    "A. s[0], s[0][0], s[0][0][0]은 각각 어떤 값이 나오는지 확인하고 그 이유를 나름대로 설명해 보시오.   \n",
    "B. s[-100], s[100]은 값이 나오는지 에러가 나오는지 확인하고 그 결과에 대한 이유를 나름대로 설명해 보시오.   \n",
    "C. s[-100, 100]은 값이 나오는지 에러가 나오는지 확인하고 그 결과에 대한 이유를 나름대로 설명해 보시오.   \n",
    "D. s[1:-1]의 결과를 확인하고 그 결과에 대한 이유를 정확하게 설명하시오.   \n",
    "E. s[3:-3]의 결과를 확인하고 그 결과에 대한 이유를 정확하게 설명하시오."
   ]
  },
  {
   "cell_type": "markdown",
   "id": "069b473f",
   "metadata": {},
   "source": [
    "5. for문을 활용하여 1부터 100사이의 홀수를 출력하시오."
   ]
  },
  {
   "cell_type": "markdown",
   "id": "9489e7a7",
   "metadata": {},
   "source": [
    "6. while문을 활용하여 1부터 100사이의 짝수의 합을 계산하여 출력하시오."
   ]
  },
  {
   "cell_type": "markdown",
   "id": "36201086",
   "metadata": {},
   "source": [
    "7. 사용자로 부터 임의의 정수를 입력받고, 해당 숫자를 역순으로 출력하는 프로그램을 작성하시오.   \n",
    "\n",
    "    [실행 예]   \n",
    "\n",
    "     정수를 입력하세요: 3125   \n",
    "     숫자 역순은 5213 입니다."
   ]
  },
  {
   "cell_type": "markdown",
   "id": "4e73f558",
   "metadata": {},
   "source": [
    "8. 사용자로 부터 정수를 입력받아서 1부터 그 사이에 존재하는 소수 (Prime number)를 출력하는 파이썬 프로그램을 작성하시오."
   ]
  },
  {
   "cell_type": "markdown",
   "id": "d913a59e",
   "metadata": {},
   "source": [
    "9. Kevin과 Stuart는 게임을 한다. 규칙은 아래와 같다.   \n",
    "\n",
    "* 두 플레이어에게 같은 string, S, 가 주어진다.\n",
    "* 두 플레이어는 string S의 문자를 사용하여 substring을 만들어야 한다(중복 가능).\n",
    "* Stuart는 자음으로 시작하는 단어를 만들어야 한다.\n",
    "* Kevin은 모음으로 시작하는 단어를 만들어야 한다.\n",
    "* 게임은 두 플레이어가 만들 수 있는 모든 단어를 만들었을 때 끝난다.\n",
    "* 점수 계산 : substring 1개당 +1 점을 획득한다. (아래 그림 참고)\n",
    "*        \n",
    "<img src=\"https://nbviewer.jupyter.org/github/linklab/supercharged_python/blob/master/assignment2021/image/assignment1-9.png\" width=\"450px\" height=\"300px\"></img><br/>\n",
    "* 사용자로 부터 대문자로 이루어진 string S를 입력받고, 승자와 그의 점수를 출력하는 프로그램을 작성하시오.   \n",
    "  [실행 예]\n",
    "\n",
    "   string S를 입력하세요: BANANA\n",
    "   승자: Stuart 점수: 12"
   ]
  },
  {
   "cell_type": "markdown",
   "id": "8c00b3e0",
   "metadata": {},
   "source": [
    "10. 알파벳 소문자만으로 이루어진 string, S, 가 주어지고 아래 2가지 연산을 수행할 수 있다.   \n",
    "* 추가 : string S의 끝에 알파벳 소문자 하나를 추가한다.\n",
    "* 삭제 : string S의 마지막 문자 하나를 삭제한다. empty string에서 삭제 연산을 수행한 결과는 empty string이다.   \n",
    "두 개의 string, s와 t, 그리고 정수 k가 주어질 때, 정확히 k번의 연산을 통해 s를 t로 바꿀 수 있는지 판단하는 함수를 작성하시오."
   ]
  },
  {
   "cell_type": "code",
   "execution_count": null,
   "id": "c339a9db",
   "metadata": {},
   "outputs": [],
   "source": [
    "def appendDelete(s, t, k):\n",
    "    '''\n",
    "    함수 포맷 변경하지 마세요.\n",
    "    s를 정확히 k번의 연산을 통해 t로 바꿀 수 있다면 'Yes'를 아니면 'No'를 return 해주세요.\n",
    "    '''\n",
    "    return 'Yes'    # or 'No'"
   ]
  },
  {
   "cell_type": "markdown",
   "id": "c687f416",
   "metadata": {},
   "source": [
    "* [예시]\n",
    "\n",
    "   1. s = 'hackerhappy'    t = 'hackerrank'    k = 9    => 'Yes'\n",
    "\n",
    "   2. s = 'aba'            t = 'aba'           k = 7    => 'Yes'\n",
    "\n",
    "   3. s = 'ashley'         t = 'ash'           k = 2    => 'No'"
   ]
  }
 ],
 "metadata": {
  "kernelspec": {
   "display_name": "Python 3",
   "language": "python",
   "name": "python3"
  },
  "language_info": {
   "codemirror_mode": {
    "name": "ipython",
    "version": 3
   },
   "file_extension": ".py",
   "mimetype": "text/x-python",
   "name": "python",
   "nbconvert_exporter": "python",
   "pygments_lexer": "ipython3",
   "version": "3.8.8"
  }
 },
 "nbformat": 4,
 "nbformat_minor": 5
}
